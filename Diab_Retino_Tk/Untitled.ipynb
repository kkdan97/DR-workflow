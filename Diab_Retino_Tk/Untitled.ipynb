{
 "cells": [
  {
   "cell_type": "markdown",
   "metadata": {},
   "source": [
    "# NOTE before running the program replace the dst value to the your predict folder's path on line 136"
   ]
  },
  {
   "cell_type": "code",
   "execution_count": 40,
   "metadata": {},
   "outputs": [
    {
     "name": "stdout",
     "output_type": "stream",
     "text": [
      "8.6\n",
      "OPENING FILES\n",
      "E:/donatella/CNN Kag/diabetic retinopathy/train_images/00f6c1be5a33.png\n",
      "E:\\donatella\\CNN Kag\\diabetic retinopathy\\train_images\\00f6c1be5a33.png\n",
      "            id_code\n",
      "0  00f6c1be5a33.png\n",
      "Found 1 validated image filenames.\n",
      "(1, 2)\n",
      "[[0.45944422 0.5405558 ]]\n",
      "1\n",
      "SETTING VALUE\n",
      "File Removed!\n",
      "value resetted\n"
     ]
    }
   ],
   "source": [
    "import subprocess\n",
    "import tkinter as tk\n",
    "import os\n",
    "from tkinter import filedialog\n",
    "print(tk.TkVersion)\n",
    "import re\n",
    "\n",
    "\n",
    "from keras.models import load_model\n",
    "import pandas as pd\n",
    "from keras.preprocessing.image import ImageDataGenerator\n",
    "import keras\n",
    "\n",
    "\n",
    "\n",
    "import pandas as pd\n",
    "import cv2\n",
    "import matplotlib.pyplot as plt\n",
    "import random\n",
    "import numpy as np\n",
    "\n",
    "\n",
    "\n",
    "m = tk.Tk(className=\"Diabetic Retinopathy PROJECT (use png files)\")\n",
    "\n",
    "text_var0 = tk.StringVar(m)\n",
    "text_var0.set('filepath')\n",
    "lr0 = tk.Label(m, textvariable=text_var0)\n",
    "lr0.pack()\n",
    "\n",
    "text_var1 = tk.StringVar(m)\n",
    "text_var1.set('None')\n",
    "lr1 = tk.Label(m, textvariable=text_var1)\n",
    "lr1.pack()\n",
    "IMG_SIZE = 512\n",
    "\n",
    "# the preprocessing functions\n",
    "\n",
    "def crop_image_from_gray(img,tol=7):\n",
    "    if img.ndim ==2:\n",
    "        mask = img>tol\n",
    "        return img[np.ix_(mask.any(1),mask.any(0))]\n",
    "    elif img.ndim==3:\n",
    "        gray_img = cv2.cvtColor(img, cv2.COLOR_RGB2GRAY)\n",
    "        mask = gray_img>tol\n",
    "        \n",
    "        check_shape = img[:,:,0][np.ix_(mask.any(1),mask.any(0))].shape[0]\n",
    "        if (check_shape == 0): # image is too dark so that we crop out everything,\n",
    "            return img # return original image\n",
    "        else:\n",
    "            img1=img[:,:,0][np.ix_(mask.any(1),mask.any(0))]\n",
    "            img2=img[:,:,1][np.ix_(mask.any(1),mask.any(0))]\n",
    "            img3=img[:,:,2][np.ix_(mask.any(1),mask.any(0))]\n",
    "    #         print(img1.shape,img2.shape,img3.shape)\n",
    "            img = np.stack([img1,img2,img3],axis=-1)\n",
    "    #         print(img.shape)\n",
    "        return img\n",
    "\n",
    "\n",
    "\n",
    "def load_ben_color(path, sigmaX=10):\n",
    "    image = cv2.imread(path)\n",
    "    image = cv2.cvtColor(image, cv2.COLOR_BGR2RGB)\n",
    "    image = crop_image_from_gray(image)\n",
    "    image = cv2.resize(image, (IMG_SIZE, IMG_SIZE))\n",
    "    image=cv2.addWeighted ( image,4, cv2.GaussianBlur( image , (0,0) , sigmaX) ,-4 ,128)\n",
    "        \n",
    "    return image\n",
    "\n",
    "\n",
    "# the predict function\n",
    "def setval():\n",
    "#     preprocessing\n",
    "    sa = re.split(r\"/\", fr'{text_var0.get()}')[-1]\n",
    "    path = fr\"predict/{sa}\"\n",
    "    image = load_ben_color(path, sigmaX=30)\n",
    "    cv2.imwrite(path, image)\n",
    "    \n",
    "#     predicting\n",
    "    listing_pngs = os.listdir('predict/')\n",
    "    data_lis = []\n",
    "    for i in listing_pngs:\n",
    "        if i.endswith('.png'):\n",
    "            data_lis.append(i)\n",
    "    testd = pd.DataFrame({\"id_code\": data_lis})\n",
    "    print(testd)\n",
    "    \n",
    "    loaded_model = load_model('model2.h5')\n",
    "\n",
    "    datagen = ImageDataGenerator(preprocessing_function=keras.applications.mobilenet.preprocess_input)\n",
    "    test_dat = datagen.flow_from_dataframe(testd, directory='predict/', x_col='id_code', y_col=None, target_size=(224,224), class_mode=None\n",
    "                                        , classes=None, batch_size=1, shuffle=False)\n",
    "    \n",
    "    loadedpredicz = loaded_model.predict_generator(test_dat, steps=1)\n",
    "    print(loadedpredicz.shape)\n",
    "    print(loadedpredicz)\n",
    "    print(loadedpredicz.argmax(axis=1)[0])\n",
    "    out_vale = loadedpredicz.argmax(axis=1)[0]\n",
    "    \n",
    "    \n",
    "#     changing value\n",
    "    if out_vale==1:\n",
    "        text_var1.set(\"Positive\")\n",
    "    else:\n",
    "        text_var1.set(\"Negative\")\n",
    "    print(\"SETTING VALUE\")\n",
    "\n",
    "    \n",
    "    # removing file\n",
    "    sa = re.split(r\"/\", fr'{text_var0.get()}')[-1]\n",
    "    os.remove(fr\"predict/{sa}\")\n",
    "    print(\"File Removed!\")\n",
    "    text_var0.set(\"Null\")\n",
    "\n",
    "\n",
    "# value reset function\n",
    "def resetval():\n",
    "    text_var0.set(\"Null\")\n",
    "    text_var1.set(\"Null\")\n",
    "    print(\"value resetted\")\n",
    "#     print(text_var0.get())\n",
    "\n",
    "\n",
    "# file open and copy/paste function\n",
    "def fileopener():\n",
    "    m.filename = filedialog.askopenfilename(initialdir=\"/\", title=\"SELECT FILES\")\n",
    "    text_var0.set(m.filename)\n",
    "    if (fr'{text_var0.get()}'==\"\"):\n",
    "        print(\"nothing\")\n",
    "    else: \n",
    "        print(\"OPENING FILES\")\n",
    "        src = text_var0.get()\n",
    "        print(src)\n",
    "        src = src.replace('/', '\\\\')\n",
    "        src = fr'{src}'\n",
    "    \n",
    "    \n",
    "        print(src)\n",
    "#         change this value to your current predict folder's path\n",
    "        dst = r'E:\\donatella\\tkinter_try_outs\\predict'\n",
    "        subprocess.call(['xcopy', src, dst])\n",
    "\n",
    "\n",
    "b0 = tk.Button(m, text='OPEN FILE', width=50, command=fileopener)\n",
    "b0.pack()\n",
    "\n",
    "b1 = tk.Button(m, text='Predict', width=50, command=setval)\n",
    "b1.pack()\n",
    "\n",
    "b1 = tk.Button(m, text='RESET', width=50, command=resetval)\n",
    "b1.pack()\n",
    "\n",
    "m.mainloop()"
   ]
  },
  {
   "cell_type": "markdown",
   "metadata": {},
   "source": [
    "### functions planned"
   ]
  },
  {
   "cell_type": "markdown",
   "metadata": {},
   "source": [
    "<p> \n",
    "    create button as planned<br>\n",
    "    file path input button's function is to let a user choose a file mainly a pic then automatically copy/paste the picture to the predict folder(create new folder named predict)<br> \n",
    "    reset button should reset predict label to null<br>\n",
    "    after predicting delete all files in the predict folder automatically\n",
    "    \n",
    "</p>"
   ]
  },
  {
   "cell_type": "markdown",
   "metadata": {},
   "source": [
    "### INSTRUCTIONS"
   ]
  },
  {
   "cell_type": "markdown",
   "metadata": {},
   "source": [
    "<h2>at first click the OPEN FILE and choose the image file must be a png<br>\n",
    "    Then click the PREDICT button <br>\n",
    "    if you delete the value of filepath or results click RESET button\n",
    "\n",
    "</h2>"
   ]
  },
  {
   "cell_type": "markdown",
   "metadata": {},
   "source": [
    " "
   ]
  },
  {
   "cell_type": "code",
   "execution_count": 38,
   "metadata": {},
   "outputs": [],
   "source": [
    "# src = r'D:/DOWNLOAD/copied.jpg'\n",
    "# src = src.replace('/', '\\\\')\n",
    "# dst = r'E:\\donatella\\tkinter_try_outs\\predict'\n",
    "# subprocess.call(['xcopy', src, dst])"
   ]
  },
  {
   "cell_type": "code",
   "execution_count": 37,
   "metadata": {},
   "outputs": [],
   "source": [
    "# src"
   ]
  },
  {
   "cell_type": "code",
   "execution_count": 36,
   "metadata": {},
   "outputs": [],
   "source": [
    "# a = 2\n",
    "# b = fr\"\\thello\\tworld{a}\"\n",
    "# print(b)"
   ]
  },
  {
   "cell_type": "code",
   "execution_count": null,
   "metadata": {},
   "outputs": [],
   "source": []
  },
  {
   "cell_type": "code",
   "execution_count": null,
   "metadata": {},
   "outputs": [],
   "source": []
  },
  {
   "cell_type": "code",
   "execution_count": null,
   "metadata": {},
   "outputs": [],
   "source": []
  },
  {
   "cell_type": "code",
   "execution_count": null,
   "metadata": {},
   "outputs": [],
   "source": []
  },
  {
   "cell_type": "code",
   "execution_count": null,
   "metadata": {},
   "outputs": [],
   "source": []
  }
 ],
 "metadata": {
  "kernelspec": {
   "display_name": "Python 3",
   "language": "python",
   "name": "python3"
  },
  "language_info": {
   "codemirror_mode": {
    "name": "ipython",
    "version": 3
   },
   "file_extension": ".py",
   "mimetype": "text/x-python",
   "name": "python",
   "nbconvert_exporter": "python",
   "pygments_lexer": "ipython3",
   "version": "3.7.3"
  }
 },
 "nbformat": 4,
 "nbformat_minor": 2
}
